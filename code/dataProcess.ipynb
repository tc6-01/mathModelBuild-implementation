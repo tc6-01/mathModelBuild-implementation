{
 "cells": [
  {
   "cell_type": "code",
   "execution_count": 174,
   "metadata": {},
   "outputs": [],
   "source": [
    "import pandas as pd\n",
    "import numpy as np"
   ]
  },
  {
   "cell_type": "code",
   "execution_count": 175,
   "metadata": {},
   "outputs": [
    {
     "name": "stdout",
     "output_type": "stream",
     "text": [
      "sheet1    文物编号 纹饰  类型  颜色 表面风化\n",
      "0     1  C  高钾  蓝绿  无风化\n",
      "1     2  A  铅钡  浅蓝   风化\n",
      "2     3  A  高钾  蓝绿  无风化\n",
      "3     4  A  高钾  蓝绿  无风化\n",
      "4     5  A  高钾  蓝绿  无风化\n",
      "sheet2    文物采样点  二氧化硅(SiO2)  氧化钠(Na2O)  氧化钾(K2O)  氧化钙(CaO)  氧化镁(MgO)  氧化铝(Al2O3)  \\\n",
      "0     01       69.33        NaN      9.99      6.32      0.87        3.93   \n",
      "1     02       36.28        NaN      1.05      2.34      1.18        5.73   \n",
      "2  03部位1       87.05        NaN      5.19      2.01       NaN        4.06   \n",
      "3  03部位2       61.71        NaN     12.37      5.87      1.11        5.50   \n",
      "4     04       65.88        NaN      9.67      7.12      1.56        6.44   \n",
      "\n",
      "   氧化铁(Fe2O3)  氧化铜(CuO)  氧化铅(PbO)  氧化钡(BaO)  五氧化二磷(P2O5)  氧化锶(SrO)  氧化锡(SnO2)  \\\n",
      "0        1.74      3.87       NaN       NaN         1.17       NaN        NaN   \n",
      "1        1.86      0.26     47.43       NaN         3.57      0.19        NaN   \n",
      "2         NaN      0.78      0.25       NaN         0.66       NaN        NaN   \n",
      "3        2.16      5.09      1.41      2.86         0.70      0.10        NaN   \n",
      "4        2.06      2.18       NaN       NaN         0.79       NaN        NaN   \n",
      "\n",
      "   二氧化硫(SO2)  \n",
      "0       0.39  \n",
      "1        NaN  \n",
      "2        NaN  \n",
      "3        NaN  \n",
      "4       0.36  \n",
      "sheet3   文物编号 表面风化  二氧化硅(SiO2)  氧化钠(Na2O)  氧化钾(K2O)  氧化钙(CaO)  氧化镁(MgO)  氧化铝(Al2O3)  \\\n",
      "0   A1  无风化       78.45        NaN       NaN      6.08      1.86        7.23   \n",
      "1   A2   风化       37.75        NaN       NaN      7.63       NaN        2.33   \n",
      "2   A3  无风化       31.95        NaN      1.36      7.19      0.81        2.93   \n",
      "3   A4  无风化       35.47        NaN      0.79      2.89      1.05        7.07   \n",
      "4   A5   风化       64.29        1.2      0.37      1.64      2.34       12.75   \n",
      "\n",
      "   氧化铁(Fe2O3)  氧化铜(CuO)  氧化铅(PbO)  氧化钡(BaO)  五氧化二磷(P2O5)  氧化锶(SrO)  氧化锡(SnO2)  \\\n",
      "0        2.15      2.11       NaN       NaN         1.06      0.03        NaN   \n",
      "1         NaN       NaN     34.30       NaN        14.27       NaN        NaN   \n",
      "2        7.06      0.21     39.58      4.69         2.68      0.52        NaN   \n",
      "3        6.45      0.96     24.28      8.31         8.45      0.28        NaN   \n",
      "4        0.81      0.94     12.23      2.16         0.19      0.21       0.49   \n",
      "\n",
      "   二氧化硫(SO2)  \n",
      "0       0.51  \n",
      "1        NaN  \n",
      "2        NaN  \n",
      "3        NaN  \n",
      "4        NaN  \n"
     ]
    }
   ],
   "source": [
    "sheet1 = pd.read_excel('../附件.xlsx', sheet_name=\"表单1\")\n",
    "sheet2 = pd.read_excel('../附件.xlsx', sheet_name='表单2')\n",
    "sheet3 = pd.read_excel('../附件.xlsx', sheet_name='表单3')\n",
    "\n",
    "# get the dataframe header\n",
    "print(\"sheet1\", sheet1.head())\n",
    "print(\"sheet2\", sheet2.head())\n",
    "print(\"sheet3\", sheet3.head())"
   ]
  },
  {
   "cell_type": "code",
   "execution_count": 176,
   "metadata": {},
   "outputs": [],
   "source": [
    "# seek for nan and invalid data to clean data \n",
    "def the_nan_data_condition(dataframe):\n",
    "    print (\"each column has NaN\\n\", dataframe.isnull().sum(),\"\\n\")\n",
    "    print (\"total has NaN\\n\", dataframe.isnull().sum().sum(),\"\\n\")\n",
    "    print (\"each column values\\n\", dataframe.count(),\"\\n\")"
   ]
  },
  {
   "cell_type": "code",
   "execution_count": 177,
   "metadata": {},
   "outputs": [
    {
     "name": "stdout",
     "output_type": "stream",
     "text": [
      "sheet1's nan value\n",
      "each column has NaN\n",
      " 文物编号    0\n",
      "纹饰      0\n",
      "类型      0\n",
      "颜色      4\n",
      "表面风化    0\n",
      "dtype: int64 \n",
      "\n",
      "total has NaN\n",
      " 4 \n",
      "\n",
      "each column values\n",
      " 文物编号    58\n",
      "纹饰      58\n",
      "类型      58\n",
      "颜色      54\n",
      "表面风化    58\n",
      "dtype: int64 \n",
      "\n",
      "sheet2's nan value\n",
      "each column has NaN\n",
      " 文物采样点           0\n",
      "二氧化硅(SiO2)      0\n",
      "氧化钠(Na2O)      50\n",
      "氧化钾(K2O)       28\n",
      "氧化钙(CaO)        8\n",
      "氧化镁(MgO)       25\n",
      "氧化铝(Al2O3)      1\n",
      "氧化铁(Fe2O3)     24\n",
      "氧化铜(CuO)        5\n",
      "氧化铅(PbO)       11\n",
      "氧化钡(BaO)       16\n",
      "五氧化二磷(P2O5)    10\n",
      "氧化锶(SrO)       23\n",
      "氧化锡(SnO2)      62\n",
      "二氧化硫(SO2)      61\n",
      "dtype: int64 \n",
      "\n",
      "total has NaN\n",
      " 324 \n",
      "\n",
      "each column values\n",
      " 文物采样点          69\n",
      "二氧化硅(SiO2)     69\n",
      "氧化钠(Na2O)      19\n",
      "氧化钾(K2O)       41\n",
      "氧化钙(CaO)       61\n",
      "氧化镁(MgO)       44\n",
      "氧化铝(Al2O3)     68\n",
      "氧化铁(Fe2O3)     45\n",
      "氧化铜(CuO)       64\n",
      "氧化铅(PbO)       58\n",
      "氧化钡(BaO)       53\n",
      "五氧化二磷(P2O5)    59\n",
      "氧化锶(SrO)       46\n",
      "氧化锡(SnO2)       7\n",
      "二氧化硫(SO2)       8\n",
      "dtype: int64 \n",
      "\n",
      "sheet3's nan value\n",
      "each column has NaN\n",
      " 文物编号           0\n",
      "表面风化           0\n",
      "二氧化硅(SiO2)     0\n",
      "氧化钠(Na2O)      6\n",
      "氧化钾(K2O)       2\n",
      "氧化钙(CaO)       0\n",
      "氧化镁(MgO)       2\n",
      "氧化铝(Al2O3)     0\n",
      "氧化铁(Fe2O3)     1\n",
      "氧化铜(CuO)       1\n",
      "氧化铅(PbO)       3\n",
      "氧化钡(BaO)       4\n",
      "五氧化二磷(P2O5)    0\n",
      "氧化锶(SrO)       3\n",
      "氧化锡(SnO2)      6\n",
      "二氧化硫(SO2)      5\n",
      "dtype: int64 \n",
      "\n",
      "total has NaN\n",
      " 33 \n",
      "\n",
      "each column values\n",
      " 文物编号           8\n",
      "表面风化           8\n",
      "二氧化硅(SiO2)     8\n",
      "氧化钠(Na2O)      2\n",
      "氧化钾(K2O)       6\n",
      "氧化钙(CaO)       8\n",
      "氧化镁(MgO)       6\n",
      "氧化铝(Al2O3)     8\n",
      "氧化铁(Fe2O3)     7\n",
      "氧化铜(CuO)       7\n",
      "氧化铅(PbO)       5\n",
      "氧化钡(BaO)       4\n",
      "五氧化二磷(P2O5)    8\n",
      "氧化锶(SrO)       5\n",
      "氧化锡(SnO2)      2\n",
      "二氧化硫(SO2)      3\n",
      "dtype: int64 \n",
      "\n"
     ]
    }
   ],
   "source": [
    "# copy the file and take operation on it to keep the safe of source file\n",
    "sheetCopy1 = sheet1\n",
    "sheetCopy2 = sheet2\n",
    "sheetCopy3 = sheet3\n",
    "\n",
    "# check nan data\n",
    "print(\"sheet1's nan value\")\n",
    "the_nan_data_condition(sheetCopy1)\n",
    "print(\"sheet2's nan value\")\n",
    "the_nan_data_condition(sheetCopy2)\n",
    "print(\"sheet3's nan value\")\n",
    "the_nan_data_condition(sheetCopy3)\n"
   ]
  },
  {
   "cell_type": "code",
   "execution_count": 178,
   "metadata": {},
   "outputs": [
    {
     "name": "stdout",
     "output_type": "stream",
     "text": [
      "   文物采样点  二氧化硅(SiO2)  氧化钠(Na2O)  氧化钾(K2O)  氧化钙(CaO)  氧化镁(MgO)  氧化铝(Al2O3)  \\\n",
      "0     01       69.33        0.0      9.99      6.32      0.87        3.93   \n",
      "1     02       36.28        0.0      1.05      2.34      1.18        5.73   \n",
      "2  03部位1       87.05        0.0      5.19      2.01      0.00        4.06   \n",
      "3  03部位2       61.71        0.0     12.37      5.87      1.11        5.50   \n",
      "4     04       65.88        0.0      9.67      7.12      1.56        6.44   \n",
      "\n",
      "   氧化铁(Fe2O3)  氧化铜(CuO)  氧化铅(PbO)  氧化钡(BaO)  五氧化二磷(P2O5)  氧化锶(SrO)  氧化锡(SnO2)  \\\n",
      "0        1.74      3.87      0.00      0.00         1.17      0.00        0.0   \n",
      "1        1.86      0.26     47.43      0.00         3.57      0.19        0.0   \n",
      "2        0.00      0.78      0.25      0.00         0.66      0.00        0.0   \n",
      "3        2.16      5.09      1.41      2.86         0.70      0.10        0.0   \n",
      "4        2.06      2.18      0.00      0.00         0.79      0.00        0.0   \n",
      "\n",
      "   二氧化硫(SO2)  \n",
      "0       0.39  \n",
      "1       0.00  \n",
      "2       0.00  \n",
      "3       0.00  \n",
      "4       0.36  \n"
     ]
    }
   ],
   "source": [
    "# fill the nan value\n",
    "sheetCopy2.fillna(0, inplace=True)\n",
    "print(sheet2.head())"
   ]
  },
  {
   "cell_type": "code",
   "execution_count": 179,
   "metadata": {},
   "outputs": [
    {
     "data": {
      "text/plain": [
       "(69, 15)"
      ]
     },
     "execution_count": 179,
     "metadata": {},
     "output_type": "execute_result"
    }
   ],
   "source": [
    "sheetCopy2.shape"
   ]
  },
  {
   "cell_type": "code",
   "execution_count": 180,
   "metadata": {},
   "outputs": [
    {
     "name": "stdout",
     "output_type": "stream",
     "text": [
      "each column has NaN\n",
      " 文物编号    0\n",
      "纹饰      0\n",
      "类型      0\n",
      "颜色      0\n",
      "表面风化    0\n",
      "dtype: int64 \n",
      "\n",
      "total has NaN\n",
      " 0 \n",
      "\n",
      "each column values\n",
      " 文物编号    54\n",
      "纹饰      54\n",
      "类型      54\n",
      "颜色      54\n",
      "表面风化    54\n",
      "dtype: int64 \n",
      "\n"
     ]
    }
   ],
   "source": [
    "# data delete -- nan value\n",
    "sheetCopy1 = sheetCopy1.dropna(axis=0, how=\"any\")\n",
    "the_nan_data_condition(sheetCopy1)\n",
    "\n",
    "# delete the invalid data -- invalid data \n",
    "\n",
    "# first you should find tha data and then delete \n",
    "\n",
    "# using pandas\n",
    "\n",
    "sheetCopy2 = sheetCopy2[sheetCopy2[\"文物采样点\"].str.contains(\"15|17\") == False]\n",
    "arr = np.array(sheetCopy2['文物采样点'])\n",
    "# display the delete sheet"
   ]
  },
  {
   "cell_type": "markdown",
   "metadata": {},
   "source": [
    "## data visualiztion\n"
   ]
  },
  {
   "cell_type": "code",
   "execution_count": 181,
   "metadata": {},
   "outputs": [
    {
     "name": "stdout",
     "output_type": "stream",
     "text": [
      "(54,)\n",
      "[1 2 3 4 5 6 7 8 9 10 11 12 13 14 15 16 17 18 20 21 22 23 24 25 26 27 28\n",
      " 29 30 31 32 33 34 35 36 37 38 39 41 42 43 44 45 46 47 49 50 51 52 53 54\n",
      " 55 56 57]\n",
      "['C' 'A' 'A' 'A' 'A' 'A' 'B' 'C' 'B' 'B' 'C' 'B' 'C' 'C' 'C' 'C' 'C' 'A'\n",
      " 'A' 'A' 'B' 'A' 'C' 'C' 'C' 'B' 'A' 'A' 'A' 'C' 'C' 'C' 'C' 'C' 'C' 'C'\n",
      " 'C' 'C' 'C' 'A' 'C' 'A' 'A' 'A' 'A' 'A' 'A' 'C' 'C' 'A' 'C' 'C' 'C' 'C']\n"
     ]
    },
    {
     "data": {
      "image/png": "[encoded data removed]",
      "text/plain": [
       "<Figure size 640x480 with 1 Axes>"
      ]
     },
     "metadata": {},
     "output_type": "display_data"
    }
   ],
   "source": [
    "import matplotlib.pyplot as plt\n",
    "sheetCopy1 = np.array(sheetCopy1)\n",
    "# sheetCopy2.plot()\n",
    "x = sheetCopy1[:,0]\n",
    "y = sheetCopy1[:,1]\n",
    "z = sheetCopy1[:,2]\n",
    "x = x.squeeze()\n",
    "print(x.shape)\n",
    "print(x)\n",
    "y = y.squeeze()\n",
    "print(y)\n",
    "z = z.squeeze()\n",
    "plt.plot(x, y, label=\"纹饰\")\n",
    "plt.plot(x, z, label=\"类型\")\n",
    "plt.legend(loc = \"upper right\")\n",
    "\n",
    "plt.show()"
   ]
  }
 ],
 "metadata": {
  "kernelspec": {
   "display_name": "Python 3.9.2 64-bit",
   "language": "python",
   "name": "python3"
  },
  "language_info": {
   "codemirror_mode": {
    "name": "ipython",
    "version": 3
   },
   "file_extension": ".py",
   "mimetype": "text/x-python",
   "name": "python",
   "nbconvert_exporter": "python",
   "pygments_lexer": "ipython3",
   "version": "3.9.2"
  },
  "orig_nbformat": 4,
  "vscode": {
   "interpreter": {
    "hash": "11938c6bc6919ae2720b4d5011047913343b08a43b18698fd82dedb0d4417594"
   }
  }
 },
 "nbformat": 4,
 "nbformat_minor": 2
}
